{
 "cells": [
  {
   "cell_type": "markdown",
   "metadata": {},
   "source": [
    "# BEAUTIFULSOUP MULTI PAGE CRAWLER"
   ]
  },
  {
   "cell_type": "markdown",
   "metadata": {},
   "source": [
    "#### Import Dependencies"
   ]
  },
  {
   "cell_type": "code",
   "execution_count": 4,
   "metadata": {},
   "outputs": [],
   "source": [
    "from bs4 import BeautifulSoup\n",
    "import requests\n",
    "import pandas as pd"
   ]
  },
  {
   "cell_type": "markdown",
   "metadata": {},
   "source": [
    "#### Get Page URL"
   ]
  },
  {
   "cell_type": "code",
   "execution_count": 19,
   "metadata": {},
   "outputs": [],
   "source": [
    "#URL of google news search with keyword \"pendidikan indonesia\" from 20 pages and taken in 2nd October 2024\n",
    "list_url = [\n",
    "    'https://www.google.com/search?q=pendidikan+indonesia&sca_esv=22628e78e0652884&rlz=1C1ONGR_enID1072ID1072&tbm=nws&sxsrf=ADLYWILSlbFlH97BsTpyQJevm46pCgMXZw:1727836763956&ei=W7L8ZsqTOuuOseMPnuuQyQY&start=0&sa=N&ved=2ahUKEwiKra7E1e6IAxVrR2wGHZ41JGk4ChDy0wN6BAgEEAQ&biw=1600&bih=849&dpr=1.8',\n",
    "    'https://www.google.com/search?q=pendidikan+indonesia&sca_esv=22628e78e0652884&rlz=1C1ONGR_enID1072ID1072&tbm=nws&sxsrf=ADLYWIKQ32bWeMPThxw_DeVsUQqLjWnTrQ:1727836836670&ei=pLL8Zu7UKPCVseMP05jbsQU&start=10&sa=N&ved=2ahUKEwjutoTn1e6IAxXwSmwGHVPMNlYQ8tMDegQIAhAE&biw=1600&bih=849&dpr=1.8',\n",
    "    'https://www.google.com/search?q=pendidikan+indonesia&sca_esv=22628e78e0652884&rlz=1C1ONGR_enID1072ID1072&tbm=nws&sxsrf=ADLYWILKZ-yng8HPOqgTMuSp12yvmdbMAQ:1727854545022&ei=0ff8ZrqDAae84-EPl9eguA4&start=20&sa=N&ved=2ahUKEwj6r4Tjl--IAxUn3jgGHZcrCOc4ChDy0wN6BAgEEAc&biw=1600&bih=849&dpr=1.8',\n",
    "    'https://www.google.com/search?q=pendidikan+indonesia&sca_esv=22628e78e0652884&rlz=1C1ONGR_enID1072ID1072&tbm=nws&sxsrf=ADLYWIIM8ANIKMTOibr_oGBdq2lM5zeMLw:1727854554146&ei=2vf8Zp_GCKGO4-EPupDDsAI&start=30&sa=N&ved=2ahUKEwifm7Hnl--IAxUhxzgGHTrIECY4FBDy0wN6BAgCEAk&biw=1600&bih=849&dpr=1.8',\n",
    "    'https://www.google.com/search?q=pendidikan+indonesia&sca_esv=22628e78e0652884&rlz=1C1ONGR_enID1072ID1072&tbm=nws&sxsrf=ADLYWIK-jA2Bx0rcgPyN9vfuJvVoyaroqA:1727854564302&ei=5Pf8ZqGREsWHg8UPueufkQg&start=40&sa=N&ved=2ahUKEwihk53sl--IAxXFw6ACHbn1J4I4HhDy0wN6BAgDEAs&biw=1600&bih=849&dpr=1.8',\n",
    "    'https://www.google.com/search?q=pendidikan+indonesia&sca_esv=22628e78e0652884&rlz=1C1ONGR_enID1072ID1072&tbm=nws&sxsrf=ADLYWILI6Bq7m1I8cyqbKwaW5DMv--4DAA:1727854574151&ei=7vf8ZsT3CIGX4-EPnJrDsQI&start=50&sa=N&ved=2ahUKEwjEpvbwl--IAxWByzgGHRzNMCY4KBDy0wN6BAgDEA0&biw=1600&bih=849&dpr=1.8',\n",
    "    'https://www.google.com/search?q=pendidikan+indonesia&sca_esv=22628e78e0652884&rlz=1C1ONGR_enID1072ID1072&tbm=nws&sxsrf=ADLYWIKkA8LRYLeGrkrars1UxrK-l-QSfw:1727854582959&ei=9vf8ZrCiOtCa4-EP-KWdoQk&start=60&sa=N&ved=2ahUKEwiw9Y_1l--IAxVQzTgGHfhSJ5Q4MhDy0wN6BAgEEA8&biw=1600&bih=849&dpr=1.8',\n",
    "    'https://www.google.com/search?q=pendidikan+indonesia&sca_esv=22628e78e0652884&rlz=1C1ONGR_enID1072ID1072&tbm=nws&sxsrf=ADLYWILo57Tanw4p8tzP-hKa-xai_xr6oA:1727854593589&ei=Afj8Zru8I4ONqfkPoZbieA&start=70&sa=N&ved=2ahUKEwj7wJj6l--IAxWDRioJHSGLGA84PBDy0wN6BAgCEBE&biw=1600&bih=849&dpr=1.8',\n",
    "    'https://www.google.com/search?q=pendidikan+indonesia&sca_esv=22628e78e0652884&rlz=1C1ONGR_enID1072ID1072&tbm=nws&sxsrf=ADLYWILUHwT0MH8mEB1mue1rSnIm3xc05A:1727854606652&ei=Dvj8ZtHAJ6qf4-EPk8jsyAo&start=80&sa=N&ved=2ahUKEwjR_7WAmO-IAxWqzzgGHRMkG6k4RhDy0wN6BAgCEBM&biw=1600&bih=849&dpr=1.8',\n",
    "    'https://www.google.com/search?q=pendidikan+indonesia&sca_esv=22628e78e0652884&rlz=1C1ONGR_enID1072ID1072&tbm=nws&sxsrf=ADLYWIKYN1Gjab-A9bfD2o0pn4GHMbVZAQ:1727854621985&ei=Hfj8ZvDgO5m94-EP6O6ToA0&start=90&sa=N&ved=2ahUKEwiw492HmO-IAxWZ3jgGHWj3BNQ4UBDy0wN6BAgDEBU&biw=1600&bih=849&dpr=1.8',\n",
    "    'https://www.google.com/search?q=pendidikan+indonesia&sca_esv=22628e78e0652884&rlz=1C1ONGR_enID1072ID1072&tbm=nws&sxsrf=ADLYWIKMa3SMZt59_ppiuqTWgoIGemHAPA:1727854628886&ei=JPj8ZtzdNeuc4-EPhoHn0AE&start=100&sa=N&ved=2ahUKEwjc_4KLmO-IAxVrzjgGHYbAGRo4WhDy0wN6BAgDEBc&biw=1600&bih=849&dpr=1.8',\n",
    "    'https://www.google.com/search?q=pendidikan+indonesia&sca_esv=22628e78e0652884&rlz=1C1ONGR_enID1072ID1072&tbm=nws&sxsrf=ADLYWIJSjDxLL6Fhf4N_yg8qF920tx3ILA:1727854636045&ei=LPj8ZuW2Auq94-EPnbTt4QE&start=110&sa=N&ved=2ahUKEwjl_LeOmO-IAxXq3jgGHR1aOxw4ZBDy0wN6BAgCEBk&biw=1600&bih=849&dpr=1.8',\n",
    "    'https://www.google.com/search?q=pendidikan+indonesia&sca_esv=22628e78e0652884&rlz=1C1ONGR_enID1072ID1072&tbm=nws&sxsrf=ADLYWIIBNCougYzLtNm7T2C0BuxPu3RITQ:1727854645878&ei=Nfj8ZoqqNfes4-EPu7CB4AI&start=120&sa=N&ved=2ahUKEwjKmJCTmO-IAxV31jgGHTtYACw4bhDy0wN6BAgDEBk&biw=1600&bih=849&dpr=1.8',\n",
    "    'https://www.google.com/search?q=pendidikan+indonesia&sca_esv=22628e78e0652884&rlz=1C1ONGR_enID1072ID1072&tbm=nws&sxsrf=ADLYWILNkgHoNaQDc9y4pWWomqdY4sbCAw:1727854652002&ei=O_j8ZpDtPJeb4-EPq5q38Qs&start=130&sa=N&ved=2ahUKEwjQ9oWWmO-IAxWXzTgGHSvNLb44eBDy0wN6BAgDEBk&biw=1600&bih=849&dpr=1.8',\n",
    "    'https://www.google.com/search?q=pendidikan+indonesia&sca_esv=22628e78e0652884&rlz=1C1ONGR_enID1072ID1072&tbm=nws&sxsrf=ADLYWIKNc6p8tT78VRPamomjOW_Vn37QVg:1727854666767&ei=Svj8ZozDLuKy4-EPlqj32Ac&start=140&sa=N&ved=2ahUKEwiMkIudmO-IAxVi2TgGHRbUHXs4ggEQ8tMDegQIAxAZ&biw=1600&bih=849&dpr=1.8',\n",
    "    'https://www.google.com/search?q=pendidikan+indonesia&sca_esv=22628e78e0652884&rlz=1C1ONGR_enID1072ID1072&tbm=nws&sxsrf=ADLYWIKoXO-2OlslXDEzf419PUZLD1f7EQ:1727854674333&ei=Uvj8ZpL8E5Kp4-EPzO3FoAk&start=150&sa=N&ved=2ahUKEwiS7digmO-IAxWS1DgGHcx2EZQ4jAEQ8tMDegQIAhAZ&biw=1600&bih=849&dpr=1.8',\n",
    "    'https://www.google.com/search?q=pendidikan+indonesia&sca_esv=22628e78e0652884&rlz=1C1ONGR_enID1072ID1072&tbm=nws&sxsrf=ADLYWIKGlzAeC7dhCrCkjZ0yLrA2Ka57EQ:1727854722710&ei=gvj8ZsCNK9mNnesPzsDG4QU&start=160&sa=N&ved=2ahUKEwjA1uG3mO-IAxXZRmcHHU6gMVw4lgEQ8tMDegQIAhAZ&biw=1600&bih=849&dpr=1.8',\n",
    "    'https://www.google.com/search?q=pendidikan+indonesia&sca_esv=22628e78e0652884&rlz=1C1ONGR_enID1072ID1072&tbm=nws&sxsrf=ADLYWILjAOppytFLw_1Q45BAlyIDM1NgUw:1727854730382&ei=ivj8ZumLF8W9seMPrfi_4Qo&start=170&sa=N&ved=2ahUKEwjp-LW7mO-IAxXFXmwGHS38L6w4oAEQ8tMDegQIAxAZ&biw=1600&bih=849&dpr=1.8',\n",
    "    'https://www.google.com/search?q=pendidikan+indonesia&sca_esv=22628e78e0652884&rlz=1C1ONGR_enID1072ID1072&tbm=nws&sxsrf=ADLYWIKY5QsomfRjfA10AbPs465VSbMMAQ:1727854737183&ei=kfj8Zu71CpeOseMPn6DngAs&start=180&sa=N&ved=2ahUKEwiugtW-mO-IAxUXR2wGHR_QGbA4qgEQ8tMDegQIAhAZ&biw=1600&bih=849&dpr=1.8',\n",
    "    'https://www.google.com/search?q=pendidikan+indonesia&sca_esv=22628e78e0652884&rlz=1C1ONGR_enID1072ID1072&tbm=nws&sxsrf=ADLYWIL7D8FWkZpMeU3SK_fR__uOSmr_AQ:1727854744864&ei=mPj8Zpm9NLKjseMPzpiLyQQ&start=190&sa=N&ved=2ahUKEwiZ6anCmO-IAxWyUWwGHU7MIkk4tAEQ8tMDegQIBRAZ&biw=1600&bih=849&dpr=1.8'\n",
    "]"
   ]
  },
  {
   "cell_type": "markdown",
   "metadata": {},
   "source": [
    "### create empty list to save data"
   ]
  },
  {
   "cell_type": "code",
   "execution_count": 20,
   "metadata": {},
   "outputs": [],
   "source": [
    "#create empty list to store the news data\n",
    "judul_berita = []\n",
    "penerbit_berita = []\n",
    "sinopsis_berita = []\n",
    "link_berita = []"
   ]
  },
  {
   "cell_type": "markdown",
   "metadata": {},
   "source": [
    "### crawl the news headline, synopsis, publisher, and link url"
   ]
  },
  {
   "cell_type": "code",
   "execution_count": 21,
   "metadata": {},
   "outputs": [],
   "source": [
    "for url in list_url:\n",
    "    #get the page url\n",
    "    page = requests.get(url)\n",
    "    soup  = BeautifulSoup(page.text, 'html')\n",
    "    ### print(soup.prettify())\n",
    "\n",
    "    #get the headline\n",
    "    judul_get = soup.find_all(\"div\", class_='BNeawe vvjwJb AP7Wnd')\n",
    "\n",
    "    #save the headline to list\n",
    "    for tag in judul_get:\n",
    "        text = tag.get_text()\n",
    "        if text not in judul_berita:\n",
    "            judul_berita.append(text)\n",
    "\n",
    "    ### judul_berita\n",
    "\n",
    "\n",
    "    #get the synopsis\n",
    "    sinposis_get = soup.find_all(\"div\", class_='BNeawe s3v9rd AP7Wnd')\n",
    "    for div in sinposis_get:\n",
    "        text = div.get_text()\n",
    "        if text not in sinopsis_berita:  # To avoid duplicates\n",
    "            sinopsis_berita.append(text)\n",
    "\n",
    "    ### sinopsis_berita\n",
    "\n",
    "\n",
    "    #get and save the link to list\n",
    "    for div in soup.find_all(\"div\", class_=\"Gx5Zad xpd EtOod pkphOe\"):\n",
    "        a_tag = div.find(\"a\", href=True)\n",
    "        if a_tag:\n",
    "            link = a_tag['href']\n",
    "            # The URLs prefixed with \"/url?q=\"\n",
    "            clean_link = link.replace(\"/url?q=\", \"\")\n",
    "            if clean_link not in link_berita:\n",
    "                link_berita.append(clean_link)\n",
    "\n",
    "    ### link_berita    \n",
    "\n",
    "\n",
    "    #get the publisher\n",
    "    publisher_get = soup.find_all(\"div\", class_='BNeawe UPmit AP7Wnd lRVwie')\n",
    "\n",
    "    #save the publisher to list\n",
    "    for tag in publisher_get:\n",
    "        penerbit_berita.append(tag.get_text())\n",
    "\n",
    "    ### penerbit_berita"
   ]
  },
  {
   "cell_type": "markdown",
   "metadata": {},
   "source": [
    "### save the data to dataframe"
   ]
  },
  {
   "cell_type": "code",
   "execution_count": 22,
   "metadata": {},
   "outputs": [
    {
     "data": {
      "text/html": [
       "<div>\n",
       "<style scoped>\n",
       "    .dataframe tbody tr th:only-of-type {\n",
       "        vertical-align: middle;\n",
       "    }\n",
       "\n",
       "    .dataframe tbody tr th {\n",
       "        vertical-align: top;\n",
       "    }\n",
       "\n",
       "    .dataframe thead th {\n",
       "        text-align: right;\n",
       "    }\n",
       "</style>\n",
       "<table border=\"1\" class=\"dataframe\">\n",
       "  <thead>\n",
       "    <tr style=\"text-align: right;\">\n",
       "      <th></th>\n",
       "      <th>judul berita</th>\n",
       "      <th>penerbit</th>\n",
       "      <th>sinopsis</th>\n",
       "      <th>link</th>\n",
       "    </tr>\n",
       "  </thead>\n",
       "  <tbody>\n",
       "    <tr>\n",
       "      <th>0</th>\n",
       "      <td>Indonesia tunjukkan transformasi pendidikan le...</td>\n",
       "      <td>ANTARA News Jambi</td>\n",
       "      <td>ANTARA - Indonesia menunjukkan sejumlah platfo...</td>\n",
       "      <td>https://jambi.antaranews.com/rilis-pers/436953...</td>\n",
       "    </tr>\n",
       "    <tr>\n",
       "      <th>1</th>\n",
       "      <td>Kemendikbudristek Temukan 4 Kecurangan Penerim...</td>\n",
       "      <td>detikcom</td>\n",
       "      <td>Balai Pembiayaan Pendidikan Tinggi (BPPT) Keme...</td>\n",
       "      <td>https://www.detik.com/edu/beasiswa/d-7564848/k...</td>\n",
       "    </tr>\n",
       "    <tr>\n",
       "      <th>2</th>\n",
       "      <td>Kemendikbud Ungkap Pelanggaran Mahasiswa Pener...</td>\n",
       "      <td>Kompas.com</td>\n",
       "      <td>Kemendikbud Ristek menungkap beragam pelanggar...</td>\n",
       "      <td>https://www.kompas.com/edu/read/2024/10/01/165...</td>\n",
       "    </tr>\n",
       "    <tr>\n",
       "      <th>3</th>\n",
       "      <td>Staf Khusus Nadiem Beberkan Tiga Tantangan Bes...</td>\n",
       "      <td>Medcom.id</td>\n",
       "      <td>Bali: Staf Khusus Mendikbudristek Bidang Kompe...</td>\n",
       "      <td>https://www.medcom.id/pendidikan/news-pendidik...</td>\n",
       "    </tr>\n",
       "    <tr>\n",
       "      <th>4</th>\n",
       "      <td>Pemuda Didorong Berperan Aktif dalam Kebijakan...</td>\n",
       "      <td>Borneonews</td>\n",
       "      <td>Billy Mambrasar mengajak pemuda berperan aktif...</td>\n",
       "      <td>https://www.borneonews.co.id/berita/385694-pem...</td>\n",
       "    </tr>\n",
       "    <tr>\n",
       "      <th>...</th>\n",
       "      <td>...</td>\n",
       "      <td>...</td>\n",
       "      <td>...</td>\n",
       "      <td>...</td>\n",
       "    </tr>\n",
       "    <tr>\n",
       "      <th>186</th>\n",
       "      <td>Sisi Gelap Transformasi Pendidikan Indonesia d...</td>\n",
       "      <td>Pemerintah Kabupaten Pemalang</td>\n",
       "      <td>Mendikbud Sebut Kartu Indonesia Pintar Upaya T...</td>\n",
       "      <td>https://pemalangkab.go.id/2020/02/pendidikan-k...</td>\n",
       "    </tr>\n",
       "    <tr>\n",
       "      <th>187</th>\n",
       "      <td>Mendikbud Sebut Kartu Indonesia Pintar Upaya T...</td>\n",
       "      <td>detikNews</td>\n",
       "      <td>KEMENKO PMK — Indonesia mulai menjalin kerja s...</td>\n",
       "      <td>https://news.detik.com/berita/d-7472320/hashim...</td>\n",
       "    </tr>\n",
       "    <tr>\n",
       "      <th>188</th>\n",
       "      <td>Demi Wujudkan SDM Unggul, Pemerintah Indonesia...</td>\n",
       "      <td>Sekretariat Kabinet Republik Indonesia</td>\n",
       "      <td>Sesuai dengan pidato Rektor dalam upacara, Uni...</td>\n",
       "      <td>https://setkab.go.id/hardiknas-2024-seskab-dor...</td>\n",
       "    </tr>\n",
       "    <tr>\n",
       "      <th>189</th>\n",
       "      <td>Bergerak Bersama, Majukan Pendidikan Indonesia</td>\n",
       "      <td>Medcom.id</td>\n",
       "      <td>Meskipun lulusan perguruan tinggi bukan menjad...</td>\n",
       "      <td>https://www.medcom.id/pendidikan/news-pendidik...</td>\n",
       "    </tr>\n",
       "    <tr>\n",
       "      <th>190</th>\n",
       "      <td>Lingkaran Ekonomi dan Pendidikan di Indonesia</td>\n",
       "      <td>detikNews</td>\n",
       "      <td>Wajib Tonton, Ini 9 Film Indonesia Bertema Pen...</td>\n",
       "      <td>https://news.detik.com/berita/d-7472320/hashim...</td>\n",
       "    </tr>\n",
       "  </tbody>\n",
       "</table>\n",
       "<p>191 rows × 4 columns</p>\n",
       "</div>"
      ],
      "text/plain": [
       "                                          judul berita  \\\n",
       "0    Indonesia tunjukkan transformasi pendidikan le...   \n",
       "1    Kemendikbudristek Temukan 4 Kecurangan Penerim...   \n",
       "2    Kemendikbud Ungkap Pelanggaran Mahasiswa Pener...   \n",
       "3    Staf Khusus Nadiem Beberkan Tiga Tantangan Bes...   \n",
       "4    Pemuda Didorong Berperan Aktif dalam Kebijakan...   \n",
       "..                                                 ...   \n",
       "186  Sisi Gelap Transformasi Pendidikan Indonesia d...   \n",
       "187  Mendikbud Sebut Kartu Indonesia Pintar Upaya T...   \n",
       "188  Demi Wujudkan SDM Unggul, Pemerintah Indonesia...   \n",
       "189     Bergerak Bersama, Majukan Pendidikan Indonesia   \n",
       "190      Lingkaran Ekonomi dan Pendidikan di Indonesia   \n",
       "\n",
       "                                   penerbit  \\\n",
       "0                         ANTARA News Jambi   \n",
       "1                                  detikcom   \n",
       "2                                Kompas.com   \n",
       "3                                 Medcom.id   \n",
       "4                                Borneonews   \n",
       "..                                      ...   \n",
       "186           Pemerintah Kabupaten Pemalang   \n",
       "187                               detikNews   \n",
       "188  Sekretariat Kabinet Republik Indonesia   \n",
       "189                               Medcom.id   \n",
       "190                               detikNews   \n",
       "\n",
       "                                              sinopsis  \\\n",
       "0    ANTARA - Indonesia menunjukkan sejumlah platfo...   \n",
       "1    Balai Pembiayaan Pendidikan Tinggi (BPPT) Keme...   \n",
       "2    Kemendikbud Ristek menungkap beragam pelanggar...   \n",
       "3    Bali: Staf Khusus Mendikbudristek Bidang Kompe...   \n",
       "4    Billy Mambrasar mengajak pemuda berperan aktif...   \n",
       "..                                                 ...   \n",
       "186  Mendikbud Sebut Kartu Indonesia Pintar Upaya T...   \n",
       "187  KEMENKO PMK — Indonesia mulai menjalin kerja s...   \n",
       "188  Sesuai dengan pidato Rektor dalam upacara, Uni...   \n",
       "189  Meskipun lulusan perguruan tinggi bukan menjad...   \n",
       "190  Wajib Tonton, Ini 9 Film Indonesia Bertema Pen...   \n",
       "\n",
       "                                                  link  \n",
       "0    https://jambi.antaranews.com/rilis-pers/436953...  \n",
       "1    https://www.detik.com/edu/beasiswa/d-7564848/k...  \n",
       "2    https://www.kompas.com/edu/read/2024/10/01/165...  \n",
       "3    https://www.medcom.id/pendidikan/news-pendidik...  \n",
       "4    https://www.borneonews.co.id/berita/385694-pem...  \n",
       "..                                                 ...  \n",
       "186  https://pemalangkab.go.id/2020/02/pendidikan-k...  \n",
       "187  https://news.detik.com/berita/d-7472320/hashim...  \n",
       "188  https://setkab.go.id/hardiknas-2024-seskab-dor...  \n",
       "189  https://www.medcom.id/pendidikan/news-pendidik...  \n",
       "190  https://news.detik.com/berita/d-7472320/hashim...  \n",
       "\n",
       "[191 rows x 4 columns]"
      ]
     },
     "execution_count": 22,
     "metadata": {},
     "output_type": "execute_result"
    }
   ],
   "source": [
    "header = ['judul berita', 'penerbit', 'sinopsis', 'link']\n",
    "data = list(zip(judul_berita, penerbit_berita, sinopsis_berita, link_berita))\n",
    "\n",
    "df = pd.DataFrame(data=data, columns=header)\n",
    "df"
   ]
  },
  {
   "cell_type": "markdown",
   "metadata": {},
   "source": [
    "### save dataframe to csv"
   ]
  },
  {
   "cell_type": "code",
   "execution_count": 23,
   "metadata": {},
   "outputs": [],
   "source": [
    "df.to_csv('multi_page_data_crawled.csv')"
   ]
  }
 ],
 "metadata": {
  "kernelspec": {
   "display_name": "venv",
   "language": "python",
   "name": "python3"
  },
  "language_info": {
   "codemirror_mode": {
    "name": "ipython",
    "version": 3
   },
   "file_extension": ".py",
   "mimetype": "text/x-python",
   "name": "python",
   "nbconvert_exporter": "python",
   "pygments_lexer": "ipython3",
   "version": "3.12.2"
  }
 },
 "nbformat": 4,
 "nbformat_minor": 2
}
